{
  "metadata": {
    "kernelspec": {
      "name": "python",
      "display_name": "Pyolite",
      "language": "python"
    },
    "language_info": {
      "codemirror_mode": {
        "name": "python",
        "version": 3
      },
      "file_extension": ".py",
      "mimetype": "text/x-python",
      "name": "python",
      "nbconvert_exporter": "python",
      "pygments_lexer": "ipython3",
      "version": "3.8"
    }
  },
  "nbformat_minor": 5,
  "nbformat": 4,
  "cells": [
    {
      "cell_type": "markdown",
      "source": "# OpenPose to CSV generator\nAuthor: David Pantoja\n\nThis script was written to crawl through each suitable video file in a folder, no matter how deep it was, run it using openpose, extract the 25 important joints' x&y coordinates, combine them with the rest of the file's coordinates, and produce a CSV. This process does open the video window, making your PC effectively unusable during generation time as the cursor refocus each time a new video is played.\n\nThings to note:\n    -This was only tested on Ubuntu and assumes openpose is functional on your system.\n    -To stop the software, go to **Kernal** and press **Restart** or some similar variation of it, depending on what you want to accomplish. After that, click on the openpose windows that keep popping up and press **Esc**.",
      "metadata": {
        "tags": []
      },
      "id": "165a22d4"
    },
    {
      "cell_type": "code",
      "source": "#Import relevant modules\nimport os\nimport pandas as pd\nimport numpy as np\nimport json\nimport re",
      "metadata": {},
      "execution_count": 1,
      "outputs": [],
      "id": "6eb83ab6"
    },
    {
      "cell_type": "markdown",
      "source": "# PLEASE EDIT THE BELOW CELL",
      "metadata": {},
      "id": "a0e13c1d"
    },
    {
      "cell_type": "code",
      "source": "#Location of openpose\nopenpose_dir = \"/home/user/Code/realpose/openpose/\"\n#folder with videos in it, can contain folders inside that also have videos\ndata_folder = \"/home/user/Desktop/videos/\"\n#location of output CSV\noutput_dir = \"/home/user/Desktop/results/\"\n\n#Below are rarely changed\n#Location of required .bin, this should rarely be changed, should NOT start with a dash\nopenpose_bin_path = \"build/examples/openpose/openpose.bin\"\n#desired JSON location, this sets it to a folder in openpose. Automatically generated if not in folder\nJSON_dir = openpose_dir + \"tmp_output_JSON/\"\nfolder_data_name = \"\"",
      "metadata": {},
      "execution_count": 2,
      "outputs": [],
      "id": "d0b3e7e4"
    },
    {
      "cell_type": "code",
      "source": "#initializes empty dataframe with names columns\ncolumns = [\"NoseX\",\"NeckX\",\"RShoulderX\",\"RElbowX\",\"RWristX\",\"LShoulderX\",\"LElbowX\",\"LWristX\",\"MidHipX\",\"RHipX\",\"RKneeX\",\"RAnkleX\",\"LHipX\",\"LKneeX\",\"LAnkleX\",\"REyeX\",\"LEyeX\",\"REarX\",\"LEarX\",\"LBigToeX\",\"LSmallToeX\",\"LHeelX\",\"RBigToeX\",\"RSmallToeX\",\"RHeelX\",\"NoseY\",\"NeckY\",\"RShoulderY\",\"RElbowY\",\"RWristY\",\"LShoulderY\",\"LElbowY\",\"LWristY\",\"MidHipY\",\"RHipY\",\"RKneeY\",\"RAnkleY\",\"LHipY\",\"LKneeY\",\"LAnkleY\",\"REyeY\",\"LEyeY\",\"REarY\",\"LEarY\",\"LBigToeY\",\"LSmallToeY\",\"LHeelY\",\"RBigToeY\",\"RSmallToeY\",\"RHeelY\",\"File\",\"FrameNo\",\"Violation\"]\n#creates empty dataframe with columns above\ndf = pd.DataFrame(columns=columns)\n#Sets working directory to what is given by openpose_dir\nos.chdir(openpose_dir)\nif not os.path.isdir(JSON_dir):\n    os.mkdir(JSON_dir)",
      "metadata": {},
      "execution_count": 3,
      "outputs": [],
      "id": "dc86c0f8"
    },
    {
      "cell_type": "code",
      "source": "def set_folder_name():\n    global folder_data_name\n    path_split = data_folder.split(\"/\", -1)\n    path_split.reverse()\n    for string in reversed(path_split):\n        if string:\n            folder_data_name = string",
      "metadata": {},
      "execution_count": 4,
      "outputs": [],
      "id": "dbe0038f"
    },
    {
      "cell_type": "code",
      "source": "#properlly helps sort strings with numbers that indicate order\ndef atoi(text):\n    return int(text) if text.isdigit() else text\n\n#properlly sorts strings with numbers that indicate order\ndef natural_keys(text):\n    '''\n    alist.sort(key=natural_keys) sorts in human order\n    http://nedbatchelder.com/blog/200712/human_sorting.html\n    (See Toothy's implementation in the comments)\n    '''\n    return [ atoi(c) for c in re.split(r'(\\d+)', text) ]",
      "metadata": {},
      "execution_count": 5,
      "outputs": [],
      "id": "34868335"
    },
    {
      "cell_type": "code",
      "source": "#DELETES EVERY FILE IN THE TEMPORARY JSON FOLDER\ndef clear_JSON():\n    for f in os.listdir(JSON_dir):\n        if \".json\" in f:\n            os.remove(os.path.join(JSON_dir,f))",
      "metadata": {},
      "execution_count": 6,
      "outputs": [],
      "id": "f17100f4"
    },
    {
      "cell_type": "code",
      "source": "#adds JSON outputs to dataframe. Openpose purges the JSON folder after each video.\ndef add_video_to_df(dirpath, file):    \n    #creates tmporary dataframe that will be appended to main later\n    tmp_df = pd.DataFrame(columns=columns)\n    \n    #saves video name\n    video_file = file\n    \n    #gets JSON file names in order\n    JSON_files = os.listdir(JSON_dir)\n    JSON_files.sort()\n    \n    #Counts frames\n    frame = 0\n    \n    #Iterates through files in folder and adds the values to the dataframe\n    for file in JSON_files:\n        #makes sure it is a JSON file\n        if \".json\" in file:\n        #gets json data\n            with open(JSON_dir + file) as f:\n                data = json.load(f)\n        \n            #Pulls relevant JSON data and appends it. JSON outline remains the same but this ONLY gets the values of the first person.\n            arr = np.array(data[\"people\"][0][\"pose_keypoints_2d\"])\n            #deletes accuracy score\n            arr = np.delete(arr, np.arange(2, arr.size, 3))\n            #adds information that will go in PATH column\n            arr = np.append(arr, dirpath + \"/\" + video_file)\n            #adds information that will go in frame column\n            arr = np.append(arr, frame)\n        \n            #adds information that will go in violation column, violation means the second folder's name in the branch\n            violation = dirpath.replace(data_folder,\"\")\n            violation = violation.split(\"/\",1)\n            violation = violation[0]\n            violation = folder_data_name + \"_\" + violation\n            arr = np.append(arr, violation)\n        \n            #reshapes data to fit dataframe\n            tmp_row = pd.DataFrame(arr.reshape(-1, len(arr)), columns=columns)\n        \n            #adds frame dataframe information to video dataframe\n            tmp_df = tmp_df.append(tmp_row, ignore_index=True)\n        \n            #increments video frame for only this video\n            frame += 1\n    #returns dataframe containing information of 1 video\n    return tmp_df",
      "metadata": {},
      "execution_count": 7,
      "outputs": [],
      "id": "0c9064b3"
    },
    {
      "cell_type": "code",
      "source": "#Deltes JSON folder and runs one video through openpose to create new JSON data\ndef run_video(dirpath, file):\n    if os.path.isdir(JSON_dir):\n        clear_JSON()\n    cmd = openpose_dir + openpose_bin_path + \" --video \" + dirpath +\"/\"+ file + \" --write_json \" + JSON_dir\n    os.system(cmd)",
      "metadata": {},
      "execution_count": null,
      "outputs": [],
      "id": "4f603004-1599-481c-8013-9876296e446a"
    },
    {
      "cell_type": "code",
      "source": "#for every branch in a directory do the following\nset_folder_name()\nfor dirpath, dirnames, filenames in os.walk(data_folder):\n    #sorts folders and files in order\n    dirnames.sort(key=natural_keys)\n    filenames.sort(key=natural_keys)\n    for file in filenames:\n        print(\"working on: \" + dirpath + \"/\" + file)\n        run_video(dirpath, file)\n        df = df.append(add_video_to_df(dirpath, file), ignore_index=True)",
      "metadata": {},
      "execution_count": null,
      "outputs": [],
      "id": "fa64d504-c879-4726-bf14-21fef5e61267"
    },
    {
      "cell_type": "code",
      "source": "set_folder_name()\n#exports dataframe containing information from all videos in data_folder as CSV to output_dir as \"results.csv\"\ndf.to_csv(output_dir + folder_data_name + \"_results.csv\", index=False, header=True)",
      "metadata": {},
      "execution_count": null,
      "outputs": [],
      "id": "8d7ca851"
    },
    {
      "cell_type": "code",
      "source": "",
      "metadata": {},
      "execution_count": null,
      "outputs": [],
      "id": "cda50d7b"
    }
  ]
}